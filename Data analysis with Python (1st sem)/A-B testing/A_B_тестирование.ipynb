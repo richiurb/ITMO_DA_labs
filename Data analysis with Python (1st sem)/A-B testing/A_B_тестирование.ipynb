{
  "nbformat": 4,
  "nbformat_minor": 0,
  "metadata": {
    "colab": {
      "provenance": []
    },
    "kernelspec": {
      "name": "python3",
      "display_name": "Python 3"
    },
    "language_info": {
      "name": "python"
    }
  },
  "cells": [
    {
      "cell_type": "markdown",
      "source": [
        "# Задание"
      ],
      "metadata": {
        "id": "79SclkAd9bpk"
      }
    },
    {
      "cell_type": "markdown",
      "source": [
        "Разобраться, влияет ли то,\n",
        "кто из соперников подавал,\n",
        "на результаты Надаля.\n",
        "\n",
        "Если да, как именно\n",
        "\n",
        "Данные на второй странице файла \"Nadal on clay.pdf\""
      ],
      "metadata": {
        "id": "MaMCSjje9eLV"
      }
    },
    {
      "cell_type": "markdown",
      "source": [
        "Результаты Надаля на глиняных и других кортах — геймы, в которых он подавал\n",
        "\n",
        "RESULT\n",
        "\n",
        "WIN LOSS TOTAL\n",
        "\n",
        "Clay 1090 171 1261\n",
        "\n",
        "Nonclay 2747 446 3193\n",
        "\n",
        "Total 3837 617 4454\n",
        "\n",
        "Таблица 3.\n",
        "Результаты Надаля на глиняных и других кортах — геймы, в которых он принимал подачу\n",
        "\n",
        "RESULT\n",
        "\n",
        "WIN LOSS TOTAL\n",
        "\n",
        "Clay 570 692 1262\n",
        "\n",
        "Nonclay 911 2269 3180\n",
        "\n",
        "Total 1481 2961 4442"
      ],
      "metadata": {
        "id": "X5I4TYcI9lDa"
      }
    },
    {
      "cell_type": "markdown",
      "source": [
        "# Реализация"
      ],
      "metadata": {
        "id": "2KHxiB_q95Se"
      }
    },
    {
      "cell_type": "code",
      "source": [
        "import numpy as np\n",
        "import pandas as pd\n",
        "\n",
        "\n",
        "from scipy.stats import norm, chi2_contingency\n",
        "import statsmodels.api as sm"
      ],
      "metadata": {
        "id": "1IplyKNR-JzX"
      },
      "execution_count": null,
      "outputs": []
    },
    {
      "cell_type": "code",
      "source": [
        "ALPHA_LEVEL = 0.05  # уровень значимости"
      ],
      "metadata": {
        "id": "oF7ZjQHO_ezK"
      },
      "execution_count": null,
      "outputs": []
    },
    {
      "cell_type": "markdown",
      "source": [
        "## Глиняные корты"
      ],
      "metadata": {
        "id": "kJe88b_a97ix"
      }
    },
    {
      "cell_type": "code",
      "execution_count": null,
      "metadata": {
        "id": "W3QY53aa9Dnq"
      },
      "outputs": [],
      "source": [
        "s1 = 1090  # число успехов выборка А (подача Надаля)\n",
        "n1 = 1261  # число испытаний выборка А (подача Надаля)\n",
        "s2 = 570  # число успехов выборка B (подача соперников)\n",
        "n2 = 1292  # число испытаний выборка B (подача соперников)"
      ]
    },
    {
      "cell_type": "markdown",
      "source": [
        "Проверим гипотезу, что подача не влияет на количество успехов"
      ],
      "metadata": {
        "id": "BnlQZfE7_AYx"
      }
    },
    {
      "cell_type": "code",
      "source": [
        "z1, p_value1 = sm.stats.proportions_ztest([s1, s2], [n1, n2])\n",
        "\n",
        "#  z-метка и p-значение\n",
        "print(['{:.12f}'.format(b) for b in (z1, p_value1)])\n",
        "print('Гипотеза подтвердилась: ', p_value1 > ALPHA_LEVEL)"
      ],
      "metadata": {
        "colab": {
          "base_uri": "https://localhost:8080/"
        },
        "id": "FeeWZXIV_WDN",
        "outputId": "aa53dbc7-7633-42d9-d18a-216a79097a7a"
      },
      "execution_count": null,
      "outputs": [
        {
          "output_type": "stream",
          "name": "stdout",
          "text": [
            "['22.418027778791', '0.000000000000']\n",
            "Гипотеза подтвердилась:  False\n"
          ]
        }
      ]
    },
    {
      "cell_type": "markdown",
      "source": [
        "Данная гипотеза не подтвердилась. Теперь проверим гипотезу, что когда подает Надаль, то он чаще выигрывает, чем когда он принимает подачу."
      ],
      "metadata": {
        "id": "9mFZWgQ2_5b9"
      }
    },
    {
      "cell_type": "code",
      "source": [
        "#  односторонние альтернативные гипотезы\n",
        "#  alternative (string in ['two-sided', 'smaller', 'larger'])\n",
        "z1, p_value1 = sm.stats.proportions_ztest([s1, s2], [n1, n2], alternative='smaller')\n",
        "\n",
        "print(['{:.12f}'.format(b) for b in (z1, p_value1)])\n",
        "print('Гипотеза подтвердилась: ', p_value1 > ALPHA_LEVEL)"
      ],
      "metadata": {
        "colab": {
          "base_uri": "https://localhost:8080/"
        },
        "id": "13FVpZnAADGw",
        "outputId": "64258250-11f6-4ebb-b2d0-2255e5e3d275"
      },
      "execution_count": null,
      "outputs": [
        {
          "output_type": "stream",
          "name": "stdout",
          "text": [
            "['22.418027778791', '1.000000000000']\n",
            "Гипотеза подтвердилась:  True\n"
          ]
        }
      ]
    },
    {
      "cell_type": "markdown",
      "source": [
        "То есть на глиняном поле Надаль чаще выигрывает, когда он подает."
      ],
      "metadata": {
        "id": "RvCTWdacBW0H"
      }
    },
    {
      "cell_type": "markdown",
      "source": [
        "## Другие корты"
      ],
      "metadata": {
        "id": "m2UJTaYOBgPT"
      }
    },
    {
      "cell_type": "code",
      "source": [
        "s1 = 2747  # число успехов выборка А (подача Надаля)\n",
        "n1 = 3193  # число испытаний выборка А (подача Надаля)\n",
        "s2 = 911  # число успехов выборка B (подача соперников)\n",
        "n2 = 3180  # число испытаний выборка B (подача соперников)"
      ],
      "metadata": {
        "id": "VVMDa1l0Bk7Z"
      },
      "execution_count": null,
      "outputs": []
    },
    {
      "cell_type": "markdown",
      "source": [
        "Проверим гипотезу, что подача не влияет на количество успехов"
      ],
      "metadata": {
        "id": "m00tdqhaBjWt"
      }
    },
    {
      "cell_type": "code",
      "source": [
        "z1, p_value1 = sm.stats.proportions_ztest([s1, s2], [n1, n2])\n",
        "\n",
        "#  z-метка и p-значение\n",
        "print(['{:.12f}'.format(b) for b in (z1, p_value1)])\n",
        "print('Гипотеза подтвердилась: ', p_value1 > ALPHA_LEVEL)"
      ],
      "metadata": {
        "colab": {
          "base_uri": "https://localhost:8080/"
        },
        "id": "WExvuPDbCbC1",
        "outputId": "89bde666-7e85-493d-e94f-ac6a99bf21e6"
      },
      "execution_count": null,
      "outputs": [
        {
          "output_type": "stream",
          "name": "stdout",
          "text": [
            "['46.320168950928', '0.000000000000']\n",
            "Гипотеза подтвердилась:  False\n"
          ]
        }
      ]
    },
    {
      "cell_type": "markdown",
      "source": [
        "Данная гипотеза не подтвердилась. Теперь проверим гипотезу, что когда подает Надаль, то он чаще выигрывает, чем когда он принимает подачу."
      ],
      "metadata": {
        "id": "gIAuybdxCeVg"
      }
    },
    {
      "cell_type": "code",
      "source": [
        "#  односторонние альтернативные гипотезы\n",
        "#  alternative (string in ['two-sided', 'smaller', 'larger'])\n",
        "z1, p_value1 = sm.stats.proportions_ztest([s1, s2], [n1, n2], alternative='smaller')\n",
        "\n",
        "print(['{:.12f}'.format(b) for b in (z1, p_value1)])\n",
        "print('Гипотеза подтвердилась: ', p_value1 > ALPHA_LEVEL)"
      ],
      "metadata": {
        "colab": {
          "base_uri": "https://localhost:8080/"
        },
        "id": "x9-x4rrfCoJg",
        "outputId": "d7f6876d-b921-4908-d070-dd77c3a1fd4d"
      },
      "execution_count": null,
      "outputs": [
        {
          "output_type": "stream",
          "name": "stdout",
          "text": [
            "['46.320168950928', '1.000000000000']\n",
            "Гипотеза подтвердилась:  True\n"
          ]
        }
      ]
    },
    {
      "cell_type": "markdown",
      "source": [
        "То есть на других кортах Надаль чаще выигрывает, когда он подает."
      ],
      "metadata": {
        "id": "mKzragJmCvT-"
      }
    },
    {
      "cell_type": "markdown",
      "source": [
        "Таким образом на любых кортах Надаль чаще выигрывает, когда он подает."
      ],
      "metadata": {
        "id": "giCkBnS3CzI7"
      }
    }
  ]
}